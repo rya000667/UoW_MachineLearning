{
 "cells": [
  {
   "cell_type": "code",
   "execution_count": 23,
   "metadata": {
    "tags": []
   },
   "outputs": [
    {
     "output_type": "stream",
     "name": "stdout",
     "text": "the\nwheels\non\nthe\nbus\ngo\nround\nand\nround\n{'the': 2, 'wheels': 1, 'on': 1, 'bus': 1, 'go': 1, 'round': 2, 'and': 1}\nAnswer One:\n2 1 1 1 2 1 1\n"
    }
   ],
   "source": [
    "'''\n",
    "Question 1\n",
    "A country, called Simpleland, has a language with a small vocabulary of just “the”, “on”, “and”, “go”, “round”, “bus”, and “wheels”.  For a word count vector with indices ordered as the words appear above, what is the word count vector for a document that simply says “the wheels on the bus go round and round.”\n",
    "\n",
    "Please enter the vector of counts as follows: If the counts were [\"the\"=1, “on”=3, \"and\"=2, \"go\"=1, \"round\"=2, \"bus\"=1, \"wheels\"=1], enter 1321211.\n",
    "'''\n",
    "\n",
    "string = 'the wheels on the bus go round and round'\n",
    "\n",
    "#count words in string\n",
    "\n",
    "words = string.split()\n",
    "\n",
    "for word in words:\n",
    "    print(word)\n",
    "\n",
    "frequency = [words.count(i) for i in words]\n",
    "\n",
    "myDict = dict(zip(words,frequency))\n",
    "\n",
    "print(myDict)\n",
    "\n",
    "#order = the, on, and, go, round, bus, wheels\n",
    "print('Answer One:')\n",
    "print(myDict['the'], myDict['on'], myDict['and'], myDict['go'], myDict['round'], myDict['bus'], myDict['wheels'])\n"
   ]
  },
  {
   "cell_type": "code",
   "execution_count": 36,
   "metadata": {
    "tags": []
   },
   "outputs": [
    {
     "output_type": "stream",
     "name": "stdout",
     "text": "Total Count in list: 11\nRecommendation Results Option 1: 13 \n\nTotal Count in list: 11\nRecommendation Results Option 2: 27 \n\nTotal Count in list: 11\nRecommendation Results Option 3: 18 \n\nTotal Count in list: 11\nRecommendation Results Option 4: 22\n"
    }
   ],
   "source": [
    "'''\n",
    "Question 2\n",
    "In Simpleland, a reader is enjoying a document with a representation: [1 3 2 1 2 1 1].  Which of the following articles would you recommend to this reader next?\n",
    "'''\n",
    "import numpy as np\n",
    "\n",
    "initialReading = ([1, 3, 2, 1, 2, 1, 1])\n",
    "option1 = ([7, 0, 2, 1, 0, 0, 1])\n",
    "option2 = ([1, 7, 0, 0, 2, 0, 1]) \n",
    "option3 = ([1, 0, 0, 0, 7, 1, 2])\n",
    "option4 = ([0, 2, 0, 0, 7, 1, 1])\n",
    "\n",
    "#count the total words in each list\n",
    "totalCount = 0\n",
    "for value in option1:\n",
    "    totalCount = totalCount + value\n",
    "\n",
    "option1Results = np.matmul(initialReading, option1)\n",
    "\n",
    "print('Total Count in list:', totalCount)\n",
    "print('Recommendation Results Option 1:', option1Results, '\\n')\n",
    "\n",
    "#run for each option\n",
    "totalCount = 0\n",
    "for value in option2:\n",
    "    totalCount = totalCount + value\n",
    "\n",
    "option2Results = np.matmul(initialReading, option2)\n",
    "\n",
    "print('Total Count in list:', totalCount)\n",
    "print('Recommendation Results Option 2:', option2Results, '\\n')\n",
    "\n",
    "#run for each option\n",
    "totalCount = 0\n",
    "for value in option3:\n",
    "    totalCount = totalCount + value\n",
    "\n",
    "option3Results = np.matmul(initialReading, option3)\n",
    "\n",
    "print('Total Count in list:', totalCount)\n",
    "print('Recommendation Results Option 3:', option3Results , '\\n')\n",
    "\n",
    "\n",
    "#run for each option\n",
    "totalCount = 0\n",
    "for value in option4:\n",
    "    totalCount = totalCount + value\n",
    "\n",
    "option4Results = np.matmul(initialReading, option4)\n",
    "\n",
    "print('Total Count in list:', totalCount)\n",
    "print('Recommendation Results Option 4:', option4Results)\n",
    "\n"
   ]
  },
  {
   "cell_type": "code",
   "execution_count": null,
   "metadata": {},
   "outputs": [],
   "source": []
  }
 ],
 "metadata": {
  "language_info": {
   "codemirror_mode": {
    "name": "ipython",
    "version": 3
   },
   "file_extension": ".py",
   "mimetype": "text/x-python",
   "name": "python",
   "nbconvert_exporter": "python",
   "pygments_lexer": "ipython3",
   "version": 3
  },
  "orig_nbformat": 2,
  "kernelspec": {
   "name": "python_defaultSpec_1610289028122",
   "display_name": "Python 3.7.3 64-bit ('base': conda)"
  }
 },
 "nbformat": 4,
 "nbformat_minor": 2
}